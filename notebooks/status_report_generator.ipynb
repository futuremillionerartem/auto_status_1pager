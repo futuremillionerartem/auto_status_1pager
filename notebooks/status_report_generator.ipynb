{
 "cells": [
  {
   "cell_type": "markdown",
   "metadata": {},
   "source": [
    "# 📊 Генератор отчёта о статусе проектов\n",
    "\n",
    "Этот ноутбук автоматически генерирует полный отчёт о статусе проектов на основе данных из CSV-файла.\n",
    "\n",
    "## 🚀 Быстрый старт\n",
    "\n",
    "1. **Убедитесь, что все файлы на месте:**\n",
    "   - `report_generator.py` - основной скрипт\n",
    "   - `project_status.csv` - данные проектов\n",
    "   - `requirements.txt` - зависимости\n",
    "\n",
    "2. **Запустите ячейки по порядку**\n",
    "\n",
    "3. **Результаты:**\n",
    "   - 📁 `status_report_YYYYmmdd_HHMMSS.md` - отчёт в Markdown\n",
    "   - 🌐 `status_report_YYYYmmdd_HHMMSS.html` - отчёт в HTML\n",
    "   - 📊 Графики в папке `figs/`\n",
    "\n",
    "---"
   ]
  },
  {
   "cell_type": "markdown",
   "metadata": {},
   "source": [
    "## 1. 📦 Проверка и установка зависимостей"
   ]
  },
  {
   "cell_type": "code",
   "execution_count": null,
   "metadata": {},
   "outputs": [],
   "source": [
    "# ✅ Проверяем и устанавливаем зависимости\n",
    "import subprocess\n",
    "import sys\n",
    "import importlib\n",
    "\n",
    "def install_and_import(package):\n",
    "    try:\n",
    "        importlib.import_module(package)\n",
    "        print(f\"✅ {package} уже установлен\")\n",
    "    except ImportError:\n",
    "        print(f\"📥 Устанавливаю {package}...\")\n",
    "        subprocess.check_call([sys.executable, \"-m\", \"pip\", \"install\", package])\n",
    "\n",
    "# Основные зависимости\n",
    "required_packages = [\"pandas\", \"matplotlib\", \"seaborn\", \"numpy\"]\n",
    "\n",
    "for package in required_packages:\n",
    "    install_and_import(package)\n",
    "\n",
    "print(\"\\n✅ Все зависимости готовы!\")"
   ]
  },
  {
   "cell_type": "markdown",
   "metadata": {},
   "source": [
    "## 2. 🔍 Проверка данных"
   ]
  },
  {
   "cell_type": "code",
   "execution_count": null,
   "metadata": {},
   "outputs": [],
   "source": [
    "# ✅ Проверяем наличие необходимых файлов\n",
    "import os\n",
    "import pandas as pd\n",
    "\n",
    "print(\"🔍 Проверяем наличие файлов...\")\n",
    "\n",
    "# Критически важные файлы\n",
    "critical_files = {\n",
    "    \"report_generator.py\": \"Основной скрипт генератора отчётов\",\n",
    "    \"project_status.csv\": \"Данные о проектах\"\n",
    "}\n",
    "\n",
    "missing_files = []\n",
    "for file, description in critical_files.items():\n",
    "    if os.path.exists(file):\n",
    "        print(f\"✅ {file} - {description}\")\n",
    "    else:\n",
    "        print(f\"❌ {file} - {description} - ОТСУТСТВУЕТ!\")\n",
    "        missing_files.append(file)\n",
    "\n",
    "if missing_files:\n",
    "    print(f\"\\n🚨 Критические файлы отсутствуют: {', '.join(missing_files)}\")\n",
    "    print(\"Добавьте недостающие файлы и перезапустите ноутбук.\")\n",
    "else:\n",
    "    print(\"\\n✅ Все файлы на месте!\")\n",
    "    \n",
    "    # Показываем превью данных\n",
    "    print(\"\\n📊 Превью данных из CSV:\")\n",
    "    try:\n",
    "        df_preview = pd.read_csv(\"project_status.csv\")\n",
    "        display(df_preview.head())\n",
    "        print(f\"Всего записей: {len(df_preview)}\")\n",
    "    except Exception as e:\n",
    "        print(f\"Ошибка при чтении CSV: {e}\")"
   ]
  },
  {
   "cell_type": "markdown",
   "metadata": {},
   "source": [
    "## 3. 🚀 Запуск генератора отчётов"
   ]
  },
  {
   "cell_type": "code",
   "execution_count": null,
   "metadata": {},
   "outputs": [],
   "source": [
    "# ✅ Запускаем генератор отчётов\n",
    "import datetime\n",
    "\n",
    "print(\"🚀 Запуск генератора отчётов...\")\n",
    "print(f\"Время запуска: {datetime.datetime.now().strftime('%Y-%m-%d %H:%M:%S')}\")\n",
    "\n",
    "# Создаем папку для графиков если её нет\n",
    "os.makedirs(\"figs\", exist_ok=True)\n",
    "\n",
    "# Запускаем генератор\n",
    "!python report_generator.py --csv project_status.csv\n",
    "\n",
    "print(\"\\n---\")\n",
    "print(\"✅ Генерация отчётов завершена!\")\n",
    "print(f\"Время завершения: {datetime.datetime.now().strftime('%Y-%m-%d %H:%M:%S')}\")"
   ]
  },
  {
   "cell_type": "markdown",
   "metadata": {},
   "source": [
    "## 4. 📄 Просмотр сгенерированных отчётов"
   ]
  },
  {
   "cell_type": "code",
   "execution_count": null,
   "metadata": {},
   "outputs": [],
   "source": [
    "# 🔍 Находим последние сгенерированные файлы отчётов\n",
    "import glob\n",
    "from IPython.display import Markdown, display, IFrame\n",
    "\n",
    "def find_latest_report(pattern):\n",
    "    files = glob.glob(pattern)\n",
    "    if files:\n",
    "        # Сортируем по времени модификации (новые сначала)\n",
    "        files.sort(key=os.path.getmtime, reverse=True)\n",
    "        return files[0]\n",
    "    return None\n",
    "\n",
    "# Ищем последние отчёты\n",
    "latest_md = find_latest_report(\"status_report_*.md\")\n",
    "latest_html = find_latest_report(\"status_report_*.html\")\n",
    "\n",
    "print(\"📁 Найденные отчёты:\")\n",
    "if latest_md:\n",
    "    print(f\"📄 Markdown: {latest_md}\")\n",
    "else:\n",
    "    print(\"❌ Markdown отчёт не найден\")\n",
    "    \n",
    "if latest_html:\n",
    "    print(f\"🌐 HTML: {latest_html}\")\n",
    "else:\n",
    "    print(\"❌ HTML отчёт не найден\")\n",
    "\n",
    "# Проверяем графики\n",
    "figs = glob.glob(\"figs/*.png\")\n",
    "print(f\"📊 Графиков сгенерировано: {len(figs)}\")\n",
    "for fig in figs:\n",
    "    print(f\"   - {os.path.basename(fig)}\")"
   ]
  },
  {
   "cell_type": "markdown",
   "metadata": {},
   "source": [
    "### 4.1 📄 Просмотр Markdown отчёта"
   ]
  },
  {
   "cell_type": "code",
   "execution_count": null,
   "metadata": {},
   "outputs": [],
   "source": [
    "# 📄 Отображаем Markdown отчёт прямо в ноутбуке\n",
    "if latest_md and os.path.exists(latest_md):\n",
    "    print(f\"📖 Загружаем Markdown отчёт: {latest_md}\")\n",
    "    with open(latest_md, 'r', encoding='utf-8') as f:\n",
    "        md_content = f.read()\n",
    "    display(Markdown(md_content))\n",
    "else:\n",
    "    print('❌ Файл Markdown отчёта не найден. Проверьте выполнение предыдущих ячеек.')"
   ]
  },
  {
   "cell_type": "markdown",
   "metadata": {},
   "source": [
    "### 4.2 🌐 Просмотр HTML отчёта"
   ]
  },
  {
   "cell_type": "code",
   "execution_count": null,
   "metadata": {},
   "outputs": [],
   "source": [
    "# 🌐 Отображаем HTML отчёт прямо в ноутбуке\n",
    "if latest_html and os.path.exists(latest_html):\n",
    "    print(f\"🌐 Загружаем HTML отчёт: {latest_html}\")\n",
    "    display(IFrame(latest_html, width='100%', height=800))\n",
    "    print(f\"💡 Совет: Чтобы открыть отчёт в отдельной вкладке, перейдите по ссылке: {latest_html}\")\n",
    "else:\n",
    "    print('❌ Файл HTML отчёта не найден. Проверьте выполнение предыдущих ячеек.')"
   ]
  },
  {
   "cell_type": "markdown",
   "metadata": {},
   "source": [
    "### 4.3 📊 Просмотр сгенерированных графиков"
   ]
  },
  {
   "cell_type": "code",
   "execution_count": null,
   "metadata": {},
   "outputs": [],
   "source": [
    "# 📊 Показываем сгенерированные графики\n",
    "from IPython.display import Image, display\n",
    "import matplotlib.pyplot as plt\n",
    "\n",
    "if figs:\n",
    "    print(\"📊 Сгенерированные графики:\")\n",
    "    \n",
    "    # Создаем сетку для отображения графиков\n",
    "    fig, axes = plt.subplots(2, 2, figsize=(15, 12))\n",
    "    axes = axes.ravel()\n",
    "    \n",
    "    for i, fig_path in enumerate(figs[:4]):  # Показываем первые 4 графика\n",
    "        if i < 4:  # Чтобы не выйти за пределы сетки\n",
    "            img = plt.imread(fig_path)\n",
    "            axes[i].imshow(img)\n",
    "            axes[i].set_title(os.path.basename(fig_path), fontsize=12)\n",
    "            axes[i].axis('off')\n",
    "    \n",
    "    # Скрываем пустые оси\n",
    "    for i in range(len(figs), 4):\n",
    "        axes[i].axis('off')\n",
    "    \n",
    "    plt.tight_layout()\n",
    "    plt.show()\n",
    "    \n",
    "    print(f\"\\n💾 Все графики сохранены в папке: figs/\")\n",
    "else:\n",
    "    print(\"❌ Графики не найдены. Проверьте выполнение генератора отчётов.\")"
   ]
  },
  {
   "cell_type": "markdown",
   "metadata": {},
   "source": [
    "## 5. 📋 Сводка результатов"
   ]
  },
  {
   "cell_type": "code",
   "execution_count": null,
   "metadata": {},
   "outputs": [],
   "source": [
    "# 📊 Сводка по выполнению\n",
    "print(\"📋 СВОДКА ВЫПОЛНЕНИЯ\")\n",
    "print(\"=\" * 50)\n",
    "\n",
    "results = {\n",
    "    \"Зависимости\": \"✅ Установлены\" if not missing_files else \"❌ Проблемы\",\n",
    "    \"Исходные данные\": \"✅ Загружены\" if os.path.exists(\"project_status.csv\") else \"❌ Отсутствуют\",\n",
    "    \"Markdown отчёт\": f\"✅ {latest_md}\" if latest_md else \"❌ Не сгенерирован\",\n",
    "    \"HTML отчёт\": f\"✅ {latest_html}\" if latest_html else \"❌ Не сгенерирован\",\n",
    "    \"Графики\": f\"✅ {len(figs)} файлов\" if figs else \"❌ Не сгенерированы\",\n",
    "}\n",
    "\n",
    "for item, status in results.items():\n",
    "    print(f\"{item:20} {status}\")\n",
    "\n",
    "print(\"=\" * 50)\n",
    "\n",
    "if all([latest_md, latest_html, figs]):\n",
    "    print(\"🎉 ВСЕ ОТЧЁТЫ УСПЕШНО СГЕНЕРИРОВАНЫ!\")\n",
    "    print(f\"\\n📁 Файлы для использования:\")\n",
    "    print(f\"   • {latest_md}\")\n",
    "    print(f\"   • {latest_html}\")\n",
    "    print(f\"   • Папка figs/ с {len(figs)} графиками\")\n",
    "else:\n",
    "    print(\"⚠️ Возникли проблемы при генерации. Проверьте сообщения выше.\")"
   ]
  },
  {
   "cell_type": "markdown",
   "metadata": {},
   "source": [
    "## 🔄 Повторная генерация\n",
    "\n",
    "Если нужно обновить отчёты с новыми данными:\n",
    "1. Обновите файл `project_status.csv`\n",
    "2. Перезапустите ячейку **\"3. 🚀 Запуск генератора отчётов\"** и следующие за ней\n",
    "\n",
    "---\n",
    "*Ноутбук обновлён и готов к работе!* 🚀"
   ]
  }
 ],
 "metadata": {
  "kernelspec": {
   "display_name": "Python 3",
   "language": "python",
   "name": "python3"
  },
  "language_info": {
   "name": "python",
   "version": "3.x"
  }
 },
 "nbformat": 4,
 "nbformat_minor": 4
}
