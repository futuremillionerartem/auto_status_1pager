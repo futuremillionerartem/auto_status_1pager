{
 "cells": [
  {
   "cell_type": "markdown",
   "metadata": {},
   "source": [
    "# 📊 Генератор отчёта о статусе проектов\n",
    "\n",
    "Этот ноутбук запускает скрипт `src/report_generator.py`, который формирует:\n",
    "- 📁 `status_report.md` — отчёт в формате Markdown\n",
    "- 🌐 `status_report.html` — отчёт в формате HTML\n",
    "- 📊 Графики в папке `figs/`\n",
    "\n",
    "После выполнения кода ниже результаты автоматически отобразятся прямо здесь."
   ]
  },
  {
   "cell_type": "code",
   "execution_count": null,
   "metadata": {},
   "outputs": [],
   "source": [
    "# ✅ Импорт библиотек\n",
    "import os\n",
    "from IPython.display import Markdown, display, HTML\n",
    "\n",
    "# Путь к скрипту и файлам\n",
    "csv_path = 'data/project_status.csv'\n",
    "output_md = 'status_report.md'\n",
    "output_html = 'status_report.html'\n",
    "\n",
    "# Проверяем наличие данных\n",
    "if not os.path.exists(csv_path):\n",
    "    raise FileNotFoundError(f\"Файл {csv_path} не найден. Добавьте CSV вручную в папку data/.\")\n",
    "\n",
    "# ✅ Запуск генератора\n",
    "!python src/report_generator.py\n",
    "\n",
    "print('\\n---\\nОтчёт успешно сгенерирован!')"
   ]
  },
  {
   "cell_type": "code",
   "execution_count": null,
   "metadata": {},
   "outputs": [],
   "source": [
    "# 📄 Просмотр Markdown-отчёта прямо здесь\n",
    "if os.path.exists(output_md):\n",
    "    with open(output_md, 'r', encoding='utf-8') as f:\n",
    "        md_content = f.read()\n",
    "    display(Markdown(md_content))\n",
    "else:\n",
    "    print('⚠️ Файл status_report.md не найден.')"
   ]
  },
  {
   "cell_type": "code",
   "execution_count": null,
   "metadata": {},
   "outputs": [],
   "source": [
    "# 🌐 Просмотр HTML-версии отчёта прямо в ноутбуке\n",
    "if os.path.exists(output_html):\n",
    "    from IPython.display import IFrame\n",
    "    display(IFrame(output_html, width='100%', height=600))\n",
    "else:\n",
    "    print('⚠️ Файл status_report.html не найден.')"
   ]
  }
 ],
 "metadata": {
  "kernelspec": {
   "display_name": "Python 3",
   "language": "python",
   "name": "python3"
  },
  "language_info": {
   "name": "python",
   "version": "3.x"
  },
  "orig_nbformat": 4
 },
 "nbformat": 4,
 "nbformat_minor": 5
}
