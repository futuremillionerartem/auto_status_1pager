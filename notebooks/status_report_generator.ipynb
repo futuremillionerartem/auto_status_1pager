{
"cells": [
{
"cell_type": "markdown",
"metadata": {},
"source": [
"# Status Report Generator\n",
"Этот ноутбук запускает `src/report_generator.py` и отображает сгенерированный `status_report.md`."
]
},
{
"cell_type": "code",
"execution_count": null,
"metadata": {},
"outputs": [],
"source": [
"!python src/report_generator.py --csv data/project_status.csv --out status_report.md --figs figs"
]
}
],
"metadata": {
"kernelspec": {
"display_name": "Python 3",
"language": "python",
"name": "python3"
},
"language_info": {
"name": "python",
"version": "3.x"
}
},
"nbformat": 4,
"nbformat_m